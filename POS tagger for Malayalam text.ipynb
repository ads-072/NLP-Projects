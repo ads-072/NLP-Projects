{
 "cells": [
  {
   "cell_type": "markdown",
   "metadata": {},
   "source": [
    "# Submitted by : Aditi Singh"
   ]
  },
  {
   "cell_type": "code",
   "execution_count": null,
   "metadata": {},
   "outputs": [],
   "source": [
    "import nltk as nlt\n",
    "nltk.download('averaged_perceptron_tagger')"
   ]
  },
  {
   "cell_type": "code",
   "execution_count": 13,
   "metadata": {},
   "outputs": [
    {
     "data": {
      "text/plain": [
       "['കാണാക്കിനാവിൻ കണിയാകുമോ നീ\\n            കാണുന്നിലാവിൽ മായാതെ മാഞ്ഞോ\\n            മായാക്കിനാവിൻ മഴയാകുമോ നീ\\n            മായാതെ മഴവില്ലിൻ കുടയായ് മാറൂ\\n\\n            ആത്മാവിലെ ആനന്ദമേ\\n            ആരാരുമറിയാതെ കാക്കുന്നു ഞാൻ\\n            ആളുന്നൊരീ തീനാളമായ്\\n            അലയുന്നൊരെരി വേനൽ പ്രണയാർദ്രമേ\\n            നീയെൻ നെഞ്ചിൻ പൊൻ വാതിൽ\\n            മിന്നുന്നൊരഴകാർന്നൊരലിവിന്റെ ഉയിരാകുമോ\\n            നീ കനിവായിതെളിയുന്നൊരാകാശ-\\n            ചെരുവിൽ ഞാൻ അലയുന്നൊരലിയായിടാം.']"
      ]
     },
     "execution_count": 13,
     "metadata": {},
     "output_type": "execute_result"
    }
   ],
   "source": [
    "# sentence tokenizing from pargraph\n",
    "para=\"\"\"കാണാക്കിനാവിൻ കണിയാകുമോ നീ\n",
    "            കാണുന്നിലാവിൽ മായാതെ മാഞ്ഞോ\n",
    "            മായാക്കിനാവിൻ മഴയാകുമോ നീ\n",
    "            മായാതെ മഴവില്ലിൻ കുടയായ് മാറൂ\n",
    "\n",
    "            ആത്മാവിലെ ആനന്ദമേ\n",
    "            ആരാരുമറിയാതെ കാക്കുന്നു ഞാൻ\n",
    "            ആളുന്നൊരീ തീനാളമായ്\n",
    "            അലയുന്നൊരെരി വേനൽ പ്രണയാർദ്രമേ\n",
    "            നീയെൻ നെഞ്ചിൻ പൊൻ വാതിൽ\n",
    "            മിന്നുന്നൊരഴകാർന്നൊരലിവിന്റെ ഉയിരാകുമോ\n",
    "            നീ കനിവായിതെളിയുന്നൊരാകാശ-\n",
    "            ചെരുവിൽ ഞാൻ അലയുന്നൊരലിയായിടാം.\"\"\"\n",
    "sen = nltk.sent_tokenize(para)\n",
    "sen"
   ]
  },
  {
   "cell_type": "code",
   "execution_count": 18,
   "metadata": {
    "scrolled": true
   },
   "outputs": [
    {
     "data": {
      "text/plain": [
       "['കാണാക്കിനാവിൻ',\n",
       " 'കണിയാകുമോ',\n",
       " 'നീ',\n",
       " 'കാണുന്നിലാവിൽ',\n",
       " 'മായാതെ',\n",
       " 'മാഞ്ഞോ',\n",
       " 'മായാക്കിനാവിൻ',\n",
       " 'മഴയാകുമോ',\n",
       " 'നീ',\n",
       " 'മായാതെ',\n",
       " 'മഴവില്ലിൻ',\n",
       " 'കുടയായ്',\n",
       " 'മാറൂ',\n",
       " 'ആത്മാവിലെ',\n",
       " 'ആനന്ദമേ',\n",
       " 'ആരാരുമറിയാതെ',\n",
       " 'കാക്കുന്നു',\n",
       " 'ഞാൻ',\n",
       " 'ആളുന്നൊരീ',\n",
       " 'തീനാളമായ്',\n",
       " 'അലയുന്നൊരെരി',\n",
       " 'വേനൽ',\n",
       " 'പ്രണയാർദ്രമേ',\n",
       " 'നീയെൻ',\n",
       " 'നെഞ്ചിൻ',\n",
       " 'പൊൻ',\n",
       " 'വാതിൽ',\n",
       " 'മിന്നുന്നൊരഴകാർന്നൊരലിവിന്റെ',\n",
       " 'ഉയിരാകുമോ',\n",
       " 'നീ',\n",
       " 'കനിവായിതെളിയുന്നൊരാകാശ-',\n",
       " 'ചെരുവിൽ',\n",
       " 'ഞാൻ',\n",
       " 'അലയുന്നൊരലിയായിടാം',\n",
       " '.']"
      ]
     },
     "execution_count": 18,
     "metadata": {},
     "output_type": "execute_result"
    }
   ],
   "source": [
    "# tokenizing word\n",
    "from nltk import word_tokenize\n",
    "word_tok = word_tokenize(para)\n",
    "word_tok"
   ]
  },
  {
   "cell_type": "code",
   "execution_count": 19,
   "metadata": {},
   "outputs": [
    {
     "data": {
      "text/plain": [
       "[('കാണാക്കിനാവിൻ', 'JJ'),\n",
       " ('കണിയാകുമോ', 'NNP'),\n",
       " ('നീ', 'NNP'),\n",
       " ('കാണുന്നിലാവിൽ', 'NNP'),\n",
       " ('മായാതെ', 'NNP'),\n",
       " ('മാഞ്ഞോ', 'NNP'),\n",
       " ('മായാക്കിനാവിൻ', 'NNP'),\n",
       " ('മഴയാകുമോ', 'NNP'),\n",
       " ('നീ', 'NNP'),\n",
       " ('മായാതെ', 'NNP'),\n",
       " ('മഴവില്ലിൻ', 'NNP'),\n",
       " ('കുടയായ്', 'NNP'),\n",
       " ('മാറൂ', 'NNP'),\n",
       " ('ആത്മാവിലെ', 'NNP'),\n",
       " ('ആനന്ദമേ', 'NNP'),\n",
       " ('ആരാരുമറിയാതെ', 'NNP'),\n",
       " ('കാക്കുന്നു', 'NNP'),\n",
       " ('ഞാൻ', 'NNP'),\n",
       " ('ആളുന്നൊരീ', 'NNP'),\n",
       " ('തീനാളമായ്', 'NNP'),\n",
       " ('അലയുന്നൊരെരി', 'NNP'),\n",
       " ('വേനൽ', 'NNP'),\n",
       " ('പ്രണയാർദ്രമേ', 'NNP'),\n",
       " ('നീയെൻ', 'NNP'),\n",
       " ('നെഞ്ചിൻ', 'NNP'),\n",
       " ('പൊൻ', 'NNP'),\n",
       " ('വാതിൽ', 'NNP'),\n",
       " ('മിന്നുന്നൊരഴകാർന്നൊരലിവിന്റെ', 'NNP'),\n",
       " ('ഉയിരാകുമോ', 'NNP'),\n",
       " ('നീ', 'NNP'),\n",
       " ('കനിവായിതെളിയുന്നൊരാകാശ-', 'JJ'),\n",
       " ('ചെരുവിൽ', 'NNP'),\n",
       " ('ഞാൻ', 'NNP'),\n",
       " ('അലയുന്നൊരലിയായിടാം', 'NNP'),\n",
       " ('.', '.')]"
      ]
     },
     "execution_count": 19,
     "metadata": {},
     "output_type": "execute_result"
    }
   ],
   "source": [
    "# tagging words\n",
    "from nltk import pos_tag\n",
    "pos_tag(word_tok)"
   ]
  }
 ],
 "metadata": {
  "kernelspec": {
   "display_name": "Python 3",
   "language": "python",
   "name": "python3"
  },
  "language_info": {
   "codemirror_mode": {
    "name": "ipython",
    "version": 3
   },
   "file_extension": ".py",
   "mimetype": "text/x-python",
   "name": "python",
   "nbconvert_exporter": "python",
   "pygments_lexer": "ipython3",
   "version": "3.8.3"
  }
 },
 "nbformat": 4,
 "nbformat_minor": 4
}
