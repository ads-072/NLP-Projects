{
 "cells": [
  {
   "cell_type": "markdown",
   "metadata": {},
   "source": [
    "# Submitted by: Aditi Singh"
   ]
  },
  {
   "cell_type": "code",
   "execution_count": 34,
   "metadata": {},
   "outputs": [],
   "source": [
    "import math\n",
    "import nltk\n",
    "from nltk.corpus import stopwords\n",
    "from nltk import tokenize\n",
    "from operator import itemgetter\n",
    "from nltk.tokenize import word_tokenize \n",
    "stop_words = set(stopwords.words('english'))"
   ]
  },
  {
   "cell_type": "code",
   "execution_count": 3,
   "metadata": {},
   "outputs": [],
   "source": [
    "from newspaper import Article\n",
    "url= 'https://www.gadgetsnow.com/social/facebook-and-instagram-announces-one-big-change/articleshow/82982344.cms'\n",
    "article = Article(url, language=\"en\")\n",
    "article.download() \n",
    "article.parse() \n",
    "article.nlp()"
   ]
  },
  {
   "cell_type": "code",
   "execution_count": 14,
   "metadata": {},
   "outputs": [
    {
     "data": {
      "text/plain": [
       "'Social media giant\\n\\nhas announced that everyone on\\n\\nand Facebook will now have the option to hide their public like counts. This means you no longer need to stress about seeing likes on other people’s posts and comparing them with the number of likes you get on your posts. So, in case you want to take a break from the ‘number game’ associated with Facebook and Instagram, you now have an option.\\n\\nWith the new feature, you will have the option to hide like counts on all posts in your feed. Also, you will have the option to hide like counts on your own posts, so others can’t see how many likes your posts get. “This way, if you like, you can focus on the photos and videos being shared, instead of how many likes posts get,” it said.\\n\\nYou can choose to hide like counts before sharing a post. Also, you can turn this setting on or off, even after the post goes live. These features will be available in the next few weeks.\\n\\n“We tested hiding like counts to see if it might depressurize people’s experience on Instagram. What we heard from people and experts was that not seeing like counts was beneficial for some, and annoying to others, particularly because people use like counts to get a sense for what’s trending or popular, so we’re giving you the choice,” said Instagram in a statement to the media.'"
      ]
     },
     "execution_count": 14,
     "metadata": {},
     "output_type": "execute_result"
    }
   ],
   "source": [
    "contents = article.text\n",
    "contents"
   ]
  },
  {
   "cell_type": "code",
   "execution_count": 16,
   "metadata": {},
   "outputs": [
    {
     "data": {
      "text/plain": [
       "240"
      ]
     },
     "execution_count": 16,
     "metadata": {},
     "output_type": "execute_result"
    }
   ],
   "source": [
    "total_words = contents.split()\n",
    "len(total_words)"
   ]
  },
  {
   "cell_type": "code",
   "execution_count": 17,
   "metadata": {},
   "outputs": [
    {
     "data": {
      "text/plain": [
       "11"
      ]
     },
     "execution_count": 17,
     "metadata": {},
     "output_type": "execute_result"
    }
   ],
   "source": [
    "total_sentences = tokenize.sent_tokenize(doc)\n",
    "len(total_sentences)"
   ]
  },
  {
   "cell_type": "code",
   "execution_count": 20,
   "metadata": {},
   "outputs": [],
   "source": [
    "tf_score = {}\n",
    "for each_word in total_words:\n",
    "    each_word = each_word.replace('.','')\n",
    "    if each_word not in stop_words:\n",
    "        if each_word in tf_score:\n",
    "            tf_score[each_word] += 1\n",
    "        else:\n",
    "            tf_score[each_word] = 1\n",
    "\n",
    "# Dividing by total_word_length for each dictionary element\n",
    "tf_score.update((x, y/int(total_word_length)) for x, y in tf_score.items())"
   ]
  },
  {
   "cell_type": "code",
   "execution_count": 21,
   "metadata": {
    "scrolled": true
   },
   "outputs": [
    {
     "data": {
      "text/plain": [
       "{'Social': 0.004166666666666667,\n",
       " 'media': 0.008333333333333333,\n",
       " 'giant': 0.004166666666666667,\n",
       " 'announced': 0.004166666666666667,\n",
       " 'everyone': 0.004166666666666667,\n",
       " 'Facebook': 0.008333333333333333,\n",
       " 'option': 0.016666666666666666,\n",
       " 'hide': 0.016666666666666666,\n",
       " 'public': 0.004166666666666667,\n",
       " 'like': 0.029166666666666667,\n",
       " 'counts': 0.029166666666666667,\n",
       " 'This': 0.004166666666666667,\n",
       " 'means': 0.004166666666666667,\n",
       " 'longer': 0.004166666666666667,\n",
       " 'need': 0.004166666666666667,\n",
       " 'stress': 0.004166666666666667,\n",
       " 'seeing': 0.008333333333333333,\n",
       " 'likes': 0.016666666666666666,\n",
       " 'people’s': 0.008333333333333333,\n",
       " 'posts': 0.020833333333333332,\n",
       " 'comparing': 0.004166666666666667,\n",
       " 'number': 0.004166666666666667,\n",
       " 'get': 0.0125,\n",
       " 'So,': 0.004166666666666667,\n",
       " 'case': 0.004166666666666667,\n",
       " 'want': 0.004166666666666667,\n",
       " 'take': 0.004166666666666667,\n",
       " 'break': 0.004166666666666667,\n",
       " '‘number': 0.004166666666666667,\n",
       " 'game’': 0.004166666666666667,\n",
       " 'associated': 0.004166666666666667,\n",
       " 'Instagram,': 0.004166666666666667,\n",
       " 'With': 0.004166666666666667,\n",
       " 'new': 0.004166666666666667,\n",
       " 'feature,': 0.004166666666666667,\n",
       " 'feed': 0.004166666666666667,\n",
       " 'Also,': 0.008333333333333333,\n",
       " 'posts,': 0.004166666666666667,\n",
       " 'others': 0.004166666666666667,\n",
       " 'can’t': 0.004166666666666667,\n",
       " 'see': 0.008333333333333333,\n",
       " 'many': 0.008333333333333333,\n",
       " '“This': 0.004166666666666667,\n",
       " 'way,': 0.004166666666666667,\n",
       " 'like,': 0.004166666666666667,\n",
       " 'focus': 0.004166666666666667,\n",
       " 'photos': 0.004166666666666667,\n",
       " 'videos': 0.004166666666666667,\n",
       " 'shared,': 0.004166666666666667,\n",
       " 'instead': 0.004166666666666667,\n",
       " 'get,”': 0.004166666666666667,\n",
       " 'said': 0.008333333333333333,\n",
       " 'You': 0.004166666666666667,\n",
       " 'choose': 0.004166666666666667,\n",
       " 'sharing': 0.004166666666666667,\n",
       " 'post': 0.008333333333333333,\n",
       " 'turn': 0.004166666666666667,\n",
       " 'setting': 0.004166666666666667,\n",
       " 'off,': 0.004166666666666667,\n",
       " 'even': 0.004166666666666667,\n",
       " 'goes': 0.004166666666666667,\n",
       " 'live': 0.004166666666666667,\n",
       " 'These': 0.004166666666666667,\n",
       " 'features': 0.004166666666666667,\n",
       " 'available': 0.004166666666666667,\n",
       " 'next': 0.004166666666666667,\n",
       " 'weeks': 0.004166666666666667,\n",
       " '“We': 0.004166666666666667,\n",
       " 'tested': 0.004166666666666667,\n",
       " 'hiding': 0.004166666666666667,\n",
       " 'might': 0.004166666666666667,\n",
       " 'depressurize': 0.004166666666666667,\n",
       " 'experience': 0.004166666666666667,\n",
       " 'Instagram': 0.008333333333333333,\n",
       " 'What': 0.004166666666666667,\n",
       " 'heard': 0.004166666666666667,\n",
       " 'people': 0.008333333333333333,\n",
       " 'experts': 0.004166666666666667,\n",
       " 'beneficial': 0.004166666666666667,\n",
       " 'some,': 0.004166666666666667,\n",
       " 'annoying': 0.004166666666666667,\n",
       " 'others,': 0.004166666666666667,\n",
       " 'particularly': 0.004166666666666667,\n",
       " 'use': 0.004166666666666667,\n",
       " 'sense': 0.004166666666666667,\n",
       " 'what’s': 0.004166666666666667,\n",
       " 'trending': 0.004166666666666667,\n",
       " 'popular,': 0.004166666666666667,\n",
       " 'we’re': 0.004166666666666667,\n",
       " 'giving': 0.004166666666666667,\n",
       " 'choice,”': 0.004166666666666667,\n",
       " 'statement': 0.004166666666666667}"
      ]
     },
     "execution_count": 21,
     "metadata": {},
     "output_type": "execute_result"
    }
   ],
   "source": [
    "tf_score"
   ]
  },
  {
   "cell_type": "code",
   "execution_count": 22,
   "metadata": {},
   "outputs": [],
   "source": [
    "def sencheck(word, sentences): \n",
    "    final = [all([w in x for w in word]) for x in sentences] \n",
    "    sent_len = [sentences[i] for i in range(0, len(final)) if final[i]]\n",
    "    return int(len(sent_len))"
   ]
  },
  {
   "cell_type": "code",
   "execution_count": 23,
   "metadata": {},
   "outputs": [],
   "source": [
    "idf_score = {}\n",
    "for each_word in total_words:\n",
    "    each_word = each_word.replace('.','')\n",
    "    if each_word not in stop_words:\n",
    "        if each_word in idf_score:\n",
    "            idf_score[each_word] = check_sent(each_word, total_sentences)\n",
    "        else:\n",
    "            idf_score[each_word] = 1\n",
    "\n",
    "# Performing a log and divide\n",
    "idf_score.update((x, math.log(int(total_sent_len)/y)) for x, y in idf_score.items())"
   ]
  },
  {
   "cell_type": "code",
   "execution_count": 24,
   "metadata": {
    "scrolled": true
   },
   "outputs": [
    {
     "data": {
      "text/plain": [
       "{'Social': 2.3978952727983707,\n",
       " 'media': 0.4519851237430572,\n",
       " 'giant': 2.3978952727983707,\n",
       " 'announced': 2.3978952727983707,\n",
       " 'everyone': 2.3978952727983707,\n",
       " 'Facebook': 1.7047480922384253,\n",
       " 'option': 0.09531017980432493,\n",
       " 'hide': 0.20067069546215124,\n",
       " 'public': 2.3978952727983707,\n",
       " 'like': 0.20067069546215124,\n",
       " 'counts': 0.09531017980432493,\n",
       " 'This': 2.3978952727983707,\n",
       " 'means': 2.3978952727983707,\n",
       " 'longer': 2.3978952727983707,\n",
       " 'need': 2.3978952727983707,\n",
       " 'stress': 2.3978952727983707,\n",
       " 'seeing': 0.20067069546215124,\n",
       " 'likes': 0.20067069546215124,\n",
       " 'people’s': 1.0116009116784799,\n",
       " 'posts': 0.09531017980432493,\n",
       " 'comparing': 2.3978952727983707,\n",
       " 'number': 2.3978952727983707,\n",
       " 'get': 0.20067069546215124,\n",
       " 'So,': 2.3978952727983707,\n",
       " 'case': 2.3978952727983707,\n",
       " 'want': 2.3978952727983707,\n",
       " 'take': 2.3978952727983707,\n",
       " 'break': 2.3978952727983707,\n",
       " '‘number': 2.3978952727983707,\n",
       " 'game’': 2.3978952727983707,\n",
       " 'associated': 2.3978952727983707,\n",
       " 'Instagram,': 2.3978952727983707,\n",
       " 'With': 2.3978952727983707,\n",
       " 'new': 2.3978952727983707,\n",
       " 'feature,': 2.3978952727983707,\n",
       " 'feed': 2.3978952727983707,\n",
       " 'Also,': 1.7047480922384253,\n",
       " 'posts,': 2.3978952727983707,\n",
       " 'others': 2.3978952727983707,\n",
       " 'can’t': 2.3978952727983707,\n",
       " 'see': 0.0,\n",
       " 'many': 0.6061358035703155,\n",
       " '“This': 2.3978952727983707,\n",
       " 'way,': 2.3978952727983707,\n",
       " 'like,': 2.3978952727983707,\n",
       " 'focus': 2.3978952727983707,\n",
       " 'photos': 2.3978952727983707,\n",
       " 'videos': 2.3978952727983707,\n",
       " 'shared,': 2.3978952727983707,\n",
       " 'instead': 2.3978952727983707,\n",
       " 'get,”': 2.3978952727983707,\n",
       " 'said': 0.20067069546215124,\n",
       " 'You': 2.3978952727983707,\n",
       " 'choose': 2.3978952727983707,\n",
       " 'sharing': 2.3978952727983707,\n",
       " 'post': 0.09531017980432493,\n",
       " 'turn': 2.3978952727983707,\n",
       " 'setting': 2.3978952727983707,\n",
       " 'off,': 2.3978952727983707,\n",
       " 'even': 2.3978952727983707,\n",
       " 'goes': 2.3978952727983707,\n",
       " 'live': 2.3978952727983707,\n",
       " 'These': 2.3978952727983707,\n",
       " 'features': 2.3978952727983707,\n",
       " 'available': 2.3978952727983707,\n",
       " 'next': 2.3978952727983707,\n",
       " 'weeks': 2.3978952727983707,\n",
       " '“We': 2.3978952727983707,\n",
       " 'tested': 2.3978952727983707,\n",
       " 'hiding': 2.3978952727983707,\n",
       " 'might': 2.3978952727983707,\n",
       " 'depressurize': 2.3978952727983707,\n",
       " 'experience': 2.3978952727983707,\n",
       " 'Instagram': 1.2992829841302609,\n",
       " 'What': 2.3978952727983707,\n",
       " 'heard': 2.3978952727983707,\n",
       " 'people': 0.20067069546215124,\n",
       " 'experts': 2.3978952727983707,\n",
       " 'beneficial': 2.3978952727983707,\n",
       " 'some,': 2.3978952727983707,\n",
       " 'annoying': 2.3978952727983707,\n",
       " 'others,': 2.3978952727983707,\n",
       " 'particularly': 2.3978952727983707,\n",
       " 'use': 2.3978952727983707,\n",
       " 'sense': 2.3978952727983707,\n",
       " 'what’s': 2.3978952727983707,\n",
       " 'trending': 2.3978952727983707,\n",
       " 'popular,': 2.3978952727983707,\n",
       " 'we’re': 2.3978952727983707,\n",
       " 'giving': 2.3978952727983707,\n",
       " 'choice,”': 2.3978952727983707,\n",
       " 'statement': 2.3978952727983707}"
      ]
     },
     "execution_count": 24,
     "metadata": {},
     "output_type": "execute_result"
    }
   ],
   "source": [
    "idf_score"
   ]
  },
  {
   "cell_type": "code",
   "execution_count": 25,
   "metadata": {
    "scrolled": true
   },
   "outputs": [
    {
     "data": {
      "text/plain": [
       "{'Social': 0.009991230303326545,\n",
       " 'media': 0.00376654269785881,\n",
       " 'giant': 0.009991230303326545,\n",
       " 'announced': 0.009991230303326545,\n",
       " 'everyone': 0.009991230303326545,\n",
       " 'Facebook': 0.014206234101986877,\n",
       " 'option': 0.001588502996738749,\n",
       " 'hide': 0.003344511591035854,\n",
       " 'public': 0.009991230303326545,\n",
       " 'like': 0.005852895284312745,\n",
       " 'counts': 0.0027798802442928106,\n",
       " 'This': 0.009991230303326545,\n",
       " 'means': 0.009991230303326545,\n",
       " 'longer': 0.009991230303326545,\n",
       " 'need': 0.009991230303326545,\n",
       " 'stress': 0.009991230303326545,\n",
       " 'seeing': 0.001672255795517927,\n",
       " 'likes': 0.003344511591035854,\n",
       " 'people’s': 0.008430007597320665,\n",
       " 'posts': 0.001985628745923436,\n",
       " 'comparing': 0.009991230303326545,\n",
       " 'number': 0.009991230303326545,\n",
       " 'get': 0.0025083836932768906,\n",
       " 'So,': 0.009991230303326545,\n",
       " 'case': 0.009991230303326545,\n",
       " 'want': 0.009991230303326545,\n",
       " 'take': 0.009991230303326545,\n",
       " 'break': 0.009991230303326545,\n",
       " '‘number': 0.009991230303326545,\n",
       " 'game’': 0.009991230303326545,\n",
       " 'associated': 0.009991230303326545,\n",
       " 'Instagram,': 0.009991230303326545,\n",
       " 'With': 0.009991230303326545,\n",
       " 'new': 0.009991230303326545,\n",
       " 'feature,': 0.009991230303326545,\n",
       " 'feed': 0.009991230303326545,\n",
       " 'Also,': 0.014206234101986877,\n",
       " 'posts,': 0.009991230303326545,\n",
       " 'others': 0.009991230303326545,\n",
       " 'can’t': 0.009991230303326545,\n",
       " 'see': 0.0,\n",
       " 'many': 0.005051131696419296,\n",
       " '“This': 0.009991230303326545,\n",
       " 'way,': 0.009991230303326545,\n",
       " 'like,': 0.009991230303326545,\n",
       " 'focus': 0.009991230303326545,\n",
       " 'photos': 0.009991230303326545,\n",
       " 'videos': 0.009991230303326545,\n",
       " 'shared,': 0.009991230303326545,\n",
       " 'instead': 0.009991230303326545,\n",
       " 'get,”': 0.009991230303326545,\n",
       " 'said': 0.001672255795517927,\n",
       " 'You': 0.009991230303326545,\n",
       " 'choose': 0.009991230303326545,\n",
       " 'sharing': 0.009991230303326545,\n",
       " 'post': 0.0007942514983693745,\n",
       " 'turn': 0.009991230303326545,\n",
       " 'setting': 0.009991230303326545,\n",
       " 'off,': 0.009991230303326545,\n",
       " 'even': 0.009991230303326545,\n",
       " 'goes': 0.009991230303326545,\n",
       " 'live': 0.009991230303326545,\n",
       " 'These': 0.009991230303326545,\n",
       " 'features': 0.009991230303326545,\n",
       " 'available': 0.009991230303326545,\n",
       " 'next': 0.009991230303326545,\n",
       " 'weeks': 0.009991230303326545,\n",
       " '“We': 0.009991230303326545,\n",
       " 'tested': 0.009991230303326545,\n",
       " 'hiding': 0.009991230303326545,\n",
       " 'might': 0.009991230303326545,\n",
       " 'depressurize': 0.009991230303326545,\n",
       " 'experience': 0.009991230303326545,\n",
       " 'Instagram': 0.010827358201085508,\n",
       " 'What': 0.009991230303326545,\n",
       " 'heard': 0.009991230303326545,\n",
       " 'people': 0.001672255795517927,\n",
       " 'experts': 0.009991230303326545,\n",
       " 'beneficial': 0.009991230303326545,\n",
       " 'some,': 0.009991230303326545,\n",
       " 'annoying': 0.009991230303326545,\n",
       " 'others,': 0.009991230303326545,\n",
       " 'particularly': 0.009991230303326545,\n",
       " 'use': 0.009991230303326545,\n",
       " 'sense': 0.009991230303326545,\n",
       " 'what’s': 0.009991230303326545,\n",
       " 'trending': 0.009991230303326545,\n",
       " 'popular,': 0.009991230303326545,\n",
       " 'we’re': 0.009991230303326545,\n",
       " 'giving': 0.009991230303326545,\n",
       " 'choice,”': 0.009991230303326545,\n",
       " 'statement': 0.009991230303326545}"
      ]
     },
     "execution_count": 25,
     "metadata": {},
     "output_type": "execute_result"
    }
   ],
   "source": [
    "tf_idf_score = {key: tf_score[key] * idf_score.get(key, 0) for key in tf_score.keys()}\n",
    "tf_idf_score"
   ]
  },
  {
   "cell_type": "code",
   "execution_count": 26,
   "metadata": {},
   "outputs": [],
   "source": [
    "def result(dict_elem, n):\n",
    "    res = dict(sorted(dict_elem.items(), key = itemgetter(1), reverse = True)[:n]) \n",
    "    return res"
   ]
  },
  {
   "cell_type": "code",
   "execution_count": 33,
   "metadata": {},
   "outputs": [
    {
     "name": "stdout",
     "output_type": "stream",
     "text": [
      "Facebook\n",
      "Also,\n",
      "Instagram\n",
      "Social\n",
      "giant\n",
      "announced\n",
      "everyone\n",
      "public\n"
     ]
    }
   ],
   "source": [
    "# relevant word/phrase\n",
    "for i in get_top_n(tf_idf_score, 8).keys():\n",
    "    print(i)"
   ]
  }
 ],
 "metadata": {
  "kernelspec": {
   "display_name": "Python 3",
   "language": "python",
   "name": "python3"
  },
  "language_info": {
   "codemirror_mode": {
    "name": "ipython",
    "version": 3
   },
   "file_extension": ".py",
   "mimetype": "text/x-python",
   "name": "python",
   "nbconvert_exporter": "python",
   "pygments_lexer": "ipython3",
   "version": "3.8.3"
  }
 },
 "nbformat": 4,
 "nbformat_minor": 4
}
