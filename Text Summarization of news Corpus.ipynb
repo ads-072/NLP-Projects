{
 "cells": [
  {
   "cell_type": "markdown",
   "metadata": {},
   "source": [
    "# Submitted by: Aditi Singh"
   ]
  },
  {
   "cell_type": "code",
   "execution_count": 4,
   "metadata": {},
   "outputs": [],
   "source": [
    "# importing neccessary libraries\n",
    "\n",
    "import nltk\n",
    "import numpy as np\n",
    "import networkx as nx\n",
    "from newspaper import Article\n",
    "from nltk.corpus import stopwords\n",
    "from nltk.cluster.util import cosine_distance"
   ]
  },
  {
   "cell_type": "code",
   "execution_count": 5,
   "metadata": {},
   "outputs": [],
   "source": [
    "url = 'https://timesofindia.indiatimes.com/city/bengaluru/no-recommendation-for-lockdown-extension-so-far-from-technical-advisory-committee-karnataka-cm/articleshow/83086044.cms'\n",
    "data = Article(url, language=\"en\")\n",
    "data.download() \n",
    "data.parse() \n",
    "data.nlp() "
   ]
  },
  {
   "cell_type": "code",
   "execution_count": 7,
   "metadata": {
    "scrolled": true
   },
   "outputs": [
    {
     "name": "stdout",
     "output_type": "stream",
     "text": [
      "BENGALURU: Karnataka chief minister BS Yediyurappa said here on Sunday that the Technical Advisory Committee on COVID-19 has not yet recommended extending the state-wide lockdown beyond June 7, though discussions were on.A decision in this regard will be taken based on the prevailing situation on June 6, a day before the lockdown ends, he told reporters here after distributing ration kits to sanitation workers.Asked whether the TAC has recommended extension of the lockdown, Yediyurappa said, \"It's not like that. Discussions are on. After June 5 and 6, we have to wait and watch how the cases come down.\"The Chief Minister, however, admitted that the Covid-19 infections were still on the higher side.\"The cases are still higher than our expectations. We will hold a meeting with ministers and experts on June 5 or 6 to chart out the future course of action. However, we have not taken any decision yet,\" Yediyurappa said.Restrictions are in place in Karnataka since April 27, which was further made stringent from May 10 onwards for about one month till June 7 to contain the rapid spread of Covid-19.The state, which has been reporting a decline in fresh cases since May 21, barring a single day on May 26, logged 20,628 infections, 492 fatalities and 3.5 lakh active cases on Saturday.\n"
     ]
    }
   ],
   "source": [
    "#Print article \n",
    "print(data.text)"
   ]
  },
  {
   "cell_type": "code",
   "execution_count": 10,
   "metadata": {},
   "outputs": [],
   "source": [
    "# Write in text file\n",
    "file = open(\"Summarize.txt\", \"w+\")\n",
    "file.write(data.text)\n",
    "# Close file\n",
    "file.close()"
   ]
  },
  {
   "cell_type": "code",
   "execution_count": 33,
   "metadata": {},
   "outputs": [],
   "source": [
    "# File reading\n",
    "def read_article(file_name):\n",
    "    file = open(file_name,'r')\n",
    "    filedata = file.readlines()\n",
    "    data = filedata[0].split('. ')\n",
    "    sentences=[]\n",
    "    for sentence in article:\n",
    "        sentences.append(sentence.replace(\"[^a-zA-Z]\",\" \").split(\" \"))\n",
    "    sentences.pop()\n",
    "    return sentences"
   ]
  },
  {
   "cell_type": "code",
   "execution_count": 34,
   "metadata": {},
   "outputs": [],
   "source": [
    "# function for sentence comparison\n",
    "\n",
    "def sentence_similarity(sent1,sent2,stopwords=None):\n",
    "    if stopwords is None:\n",
    "        stopwords = []\n",
    "    sent1 = [w.lower() for w in sent1]\n",
    "    sent2 = [w.lower() for w in sent2]\n",
    "    all_words = list(set(sent1+sent2))\n",
    "    \n",
    "    vector1 = [0] * len(all_words)\n",
    "    vector2= [0] * len(all_words)\n",
    "    for w in sent1:\n",
    "        if w in stopwords:\n",
    "            continue\n",
    "        vector1[all_words.index(w)] += 1\n",
    "        vector2[all_words.index(w)] += 1\n",
    "        \n",
    "    return 1-cosine_distance(vector1,vector2)"
   ]
  },
  {
   "cell_type": "code",
   "execution_count": 36,
   "metadata": {},
   "outputs": [],
   "source": [
    "# generating similarity matrix\n",
    "\n",
    "def gen_sim_matrix(sentences,stop_words):\n",
    "    similarity_matrix = np.zeros((len(sentences),len(sentences)))\n",
    "    for idx1 in range(len(sentences)):\n",
    "        for idx2 in range(len(sentences)):\n",
    "            if idx1 == idx2:\n",
    "                continue\n",
    "            similarity_matrix[idx1][idx2]=sentence_similarity(sentences[idx1],sentences[idx2],stop_words)\n",
    "    return similarity_matrix"
   ]
  },
  {
   "cell_type": "code",
   "execution_count": 37,
   "metadata": {},
   "outputs": [],
   "source": [
    "# function for text summarization\n",
    "\n",
    "def text_summary(file_name, top_n = 5):\n",
    "    stop_words = stopwords.words('english')\n",
    "    summarize_text=[]\n",
    "    sentence = read_article(file_name)\n",
    "    sentence_similarity_matrix = gen_sim_matrix(sentence,stop_words)\n",
    "    sentence_similarity_graph = nx.from_numpy_array(sentence_similarity_matrix)\n",
    "    scores = nx.pagerank(sentence_similarity_graph)\n",
    "    ranked_sentence=sorted(((scores[i],s)for i,s in enumerate(sentence)),reverse=True)\n",
    "    for i in range(top_n):\n",
    "        summarize_text.append(\" \".join(ranked_sentence[i][1]))\n",
    "    print(\"Summary \\n\",\". \".join(summarize_text)) "
   ]
  },
  {
   "cell_type": "code",
   "execution_count": 38,
   "metadata": {},
   "outputs": [
    {
     "name": "stdout",
     "output_type": "stream",
     "text": [
      "Summary \n",
      " We will hold a meeting with ministers and experts on June 5 or 6 to chart out the future course of action. Discussions are on. BENGALURU: Karnataka chief minister BS Yediyurappa said here on Sunday that the Technical Advisory Committee on COVID-19 has not yet recommended extending the state-wide lockdown beyond June 7, though discussions were on.A decision in this regard will be taken based on the prevailing situation on June 6, a day before the lockdown ends, he told reporters here after distributing ration kits to sanitation workers.Asked whether the TAC has recommended extension of the lockdown, Yediyurappa said, \"It's not like that. After June 5 and 6, we have to wait and watch how the cases come down.\"The Chief Minister, however, admitted that the Covid-19 infections were still on the higher side.\"The cases are still higher than our expectations\n"
     ]
    }
   ],
   "source": [
    "# Final summary\n",
    "text_summary(\"News.txt\",4)"
   ]
  }
 ],
 "metadata": {
  "kernelspec": {
   "display_name": "Python 3",
   "language": "python",
   "name": "python3"
  },
  "language_info": {
   "codemirror_mode": {
    "name": "ipython",
    "version": 3
   },
   "file_extension": ".py",
   "mimetype": "text/x-python",
   "name": "python",
   "nbconvert_exporter": "python",
   "pygments_lexer": "ipython3",
   "version": "3.8.3"
  }
 },
 "nbformat": 4,
 "nbformat_minor": 4
}
